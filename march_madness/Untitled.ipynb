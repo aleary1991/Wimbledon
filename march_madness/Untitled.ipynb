{
 "cells": [
  {
   "cell_type": "code",
   "execution_count": 33,
   "metadata": {
    "collapsed": true
   },
   "outputs": [],
   "source": [
    "import pandas as pd\n",
    "from collections import Counter"
   ]
  },
  {
   "cell_type": "code",
   "execution_count": 4,
   "metadata": {
    "collapsed": false
   },
   "outputs": [],
   "source": [
    "data = pd.read_csv(\"NCAA_AP_TOP_25.csv\")\n",
    "data2 = pd.read_csv(\"NCAA_BRACKET.csv\")"
   ]
  },
  {
   "cell_type": "code",
   "execution_count": 28,
   "metadata": {
    "collapsed": false
   },
   "outputs": [
    {
     "data": {
      "text/html": [
       "<div>\n",
       "<table border=\"1\" class=\"dataframe\">\n",
       "  <thead>\n",
       "    <tr style=\"text-align: right;\">\n",
       "      <th></th>\n",
       "      <th>YEAR</th>\n",
       "      <th>REGION</th>\n",
       "      <th>ROUND</th>\n",
       "      <th>SEED</th>\n",
       "      <th>TEAM</th>\n",
       "      <th>SCORE</th>\n",
       "      <th>O_SEED</th>\n",
       "      <th>O_NAME</th>\n",
       "      <th>O_SCORE</th>\n",
       "    </tr>\n",
       "  </thead>\n",
       "  <tbody>\n",
       "    <tr>\n",
       "      <th>0</th>\n",
       "      <td>2002</td>\n",
       "      <td>East Regional</td>\n",
       "      <td>1</td>\n",
       "      <td>1</td>\n",
       "      <td>Maryland</td>\n",
       "      <td>85</td>\n",
       "      <td>16</td>\n",
       "      <td>Siena</td>\n",
       "      <td>70</td>\n",
       "    </tr>\n",
       "    <tr>\n",
       "      <th>1</th>\n",
       "      <td>2002</td>\n",
       "      <td>East Regional</td>\n",
       "      <td>1</td>\n",
       "      <td>8</td>\n",
       "      <td>Wisconsin</td>\n",
       "      <td>80</td>\n",
       "      <td>9</td>\n",
       "      <td>St. John's (NY)</td>\n",
       "      <td>70</td>\n",
       "    </tr>\n",
       "    <tr>\n",
       "      <th>2</th>\n",
       "      <td>2002</td>\n",
       "      <td>East Regional</td>\n",
       "      <td>1</td>\n",
       "      <td>5</td>\n",
       "      <td>Marquette</td>\n",
       "      <td>69</td>\n",
       "      <td>12</td>\n",
       "      <td>Tulsa</td>\n",
       "      <td>71</td>\n",
       "    </tr>\n",
       "    <tr>\n",
       "      <th>3</th>\n",
       "      <td>2002</td>\n",
       "      <td>East Regional</td>\n",
       "      <td>1</td>\n",
       "      <td>4</td>\n",
       "      <td>Kentucky</td>\n",
       "      <td>83</td>\n",
       "      <td>13</td>\n",
       "      <td>Valparaiso</td>\n",
       "      <td>68</td>\n",
       "    </tr>\n",
       "    <tr>\n",
       "      <th>4</th>\n",
       "      <td>2002</td>\n",
       "      <td>East Regional</td>\n",
       "      <td>1</td>\n",
       "      <td>6</td>\n",
       "      <td>Texas Tech</td>\n",
       "      <td>68</td>\n",
       "      <td>11</td>\n",
       "      <td>Southern Illinois</td>\n",
       "      <td>76</td>\n",
       "    </tr>\n",
       "  </tbody>\n",
       "</table>\n",
       "</div>"
      ],
      "text/plain": [
       "   YEAR         REGION ROUND  SEED        TEAM  SCORE  O_SEED  \\\n",
       "0  2002  East Regional     1     1    Maryland     85      16   \n",
       "1  2002  East Regional     1     8   Wisconsin     80       9   \n",
       "2  2002  East Regional     1     5   Marquette     69      12   \n",
       "3  2002  East Regional     1     4    Kentucky     83      13   \n",
       "4  2002  East Regional     1     6  Texas Tech     68      11   \n",
       "\n",
       "              O_NAME  O_SCORE  \n",
       "0              Siena       70  \n",
       "1    St. John's (NY)       70  \n",
       "2              Tulsa       71  \n",
       "3         Valparaiso       68  \n",
       "4  Southern Illinois       76  "
      ]
     },
     "execution_count": 28,
     "metadata": {},
     "output_type": "execute_result"
    }
   ],
   "source": [
    "data2.head()"
   ]
  },
  {
   "cell_type": "code",
   "execution_count": 43,
   "metadata": {
    "collapsed": true
   },
   "outputs": [],
   "source": [
    "def winner(seed1, seed2, score1, score2):\n",
    "# print seed1, seed2, score1, score2\n",
    "    if score1 > score2:\n",
    "        return seed2 - seed1\n",
    "    else:\n",
    "        return seed1 - seed2"
   ]
  },
  {
   "cell_type": "code",
   "execution_count": 44,
   "metadata": {
    "collapsed": false
   },
   "outputs": [
    {
     "data": {
      "text/plain": [
       "Counter({-13: 3,\n",
       "         -11: 7,\n",
       "         -10: 2,\n",
       "         -9: 11,\n",
       "         -8: 25,\n",
       "         -7: 32,\n",
       "         -6: 4,\n",
       "         -5: 32,\n",
       "         -4: 13,\n",
       "         -3: 42,\n",
       "         -2: 7,\n",
       "         -1: 67,\n",
       "         0: 11,\n",
       "         1: 80,\n",
       "         2: 11,\n",
       "         3: 78,\n",
       "         4: 34,\n",
       "         5: 63,\n",
       "         6: 4,\n",
       "         7: 65,\n",
       "         8: 68,\n",
       "         9: 52,\n",
       "         10: 2,\n",
       "         11: 57,\n",
       "         12: 3,\n",
       "         13: 53,\n",
       "         15: 56})"
      ]
     },
     "execution_count": 44,
     "metadata": {},
     "output_type": "execute_result"
    }
   ],
   "source": [
    "Counter(data2.apply(lambda x: winner(x.SEED, x.O_SEED, x.SCORE, x.O_SCORE), axis = 1))"
   ]
  },
  {
   "cell_type": "code",
   "execution_count": null,
   "metadata": {
    "collapsed": true
   },
   "outputs": [],
   "source": []
  }
 ],
 "metadata": {
  "kernelspec": {
   "display_name": "Python 2",
   "language": "python",
   "name": "python2"
  },
  "language_info": {
   "codemirror_mode": {
    "name": "ipython",
    "version": 2
   },
   "file_extension": ".py",
   "mimetype": "text/x-python",
   "name": "python",
   "nbconvert_exporter": "python",
   "pygments_lexer": "ipython2",
   "version": "2.7.11"
  }
 },
 "nbformat": 4,
 "nbformat_minor": 0
}
