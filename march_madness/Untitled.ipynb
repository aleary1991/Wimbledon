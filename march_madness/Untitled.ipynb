{
 "cells": [
  {
   "cell_type": "code",
   "execution_count": 2,
   "metadata": {
    "collapsed": true
   },
   "outputs": [],
   "source": [
    "import requests\n",
    "from bs4 import BeautifulSoup\n",
    "import numpy as np\n",
    "import pandas as pd\n",
    "import time\n",
    "import json\n",
    "from collections import namedtuple\n",
    "import csv\n",
    "import glob\n",
    "from time import strptime"
   ]
  },
  {
   "cell_type": "code",
   "execution_count": 3,
   "metadata": {
    "collapsed": false
   },
   "outputs": [],
   "source": [
    "def scrape_table(year, week, soup, headers_=False):\n",
    "    teams = []\n",
    "    for i, team in enumerate(soup.table.find_all('tr')[1:]):\n",
    "        if not i:\n",
    "            headers = [\"YEAR\", \"WEEK\"]+[t.text for t in team.find_all('td')]+[\"GAMES\"]\n",
    "        else:\n",
    "            games = team.find(class_ = 'previous-games').text.replace(u'\\xa0', u' ').encode('utf-8', 'replace')\n",
    "            teams.append([year, week, i]+[t.text for t in team.find_all('li')] + [games.split(\"This Week:\")[-1]])\n",
    "    if headers_:\n",
    "        return headers, teams\n",
    "    else:\n",
    "        return teams"
   ]
  },
  {
   "cell_type": "code",
   "execution_count": 10,
   "metadata": {
    "collapsed": false
   },
   "outputs": [
    {
     "name": "stdout",
     "output_type": "stream",
     "text": [
      "\n"
     ]
    }
   ],
   "source": [
    "def scrape_AP_Top_25_ESPN(year = 2016, path = 'NCAA_AP_TOP_25.csv', nice=True):\n",
    "    week = 1\n",
    "    first = True\n",
    "    while True:\n",
    "        if nice:\n",
    "            time.sleep(1)\n",
    "        url = 'http://espn.go.com/mens-college-basketball/rankings/_/poll/1/year/'+str(year)+'/week/'+str(week)+'/seasontype/2'\n",
    "        soup = BeautifulSoup(requests.get(url).text, \"html.parser\")\n",
    "        if int(soup.h1.text.split(\" \")[0]) != year:\n",
    "            break\n",
    "        if soup.find(\"tr\", class_ = \"oddrow\").text == 'No rankings available.':\n",
    "            year -= 1\n",
    "            week = 1\n",
    "            continue\n",
    "        print '\\rScraping Week:', week,\"; Year:\", year,\n",
    "        if first:\n",
    "            headers, data = scrape_table(year, week, soup, True)\n",
    "        else:\n",
    "            data = data + scrape_table(year, week, soup)\n",
    "        week +=1\n",
    "    print 'Finished!'\n",
    "    print 'Saving to csv...',\n",
    "    with open(path, 'wb') as f:\n",
    "        w = csv.writer(f)\n",
    "        w.writerow(headers)\n",
    "        w.writerows(data)\n",
    "    print 'Finished!'"
   ]
  },
  {
   "cell_type": "code",
   "execution_count": 11,
   "metadata": {
    "collapsed": false
   },
   "outputs": [
    {
     "name": "stdout",
     "output_type": "stream",
     "text": [
      "Scraping Week: 18 ; Year: 2002 Finished!\n",
      "Saving to csv... Finished!\n"
     ]
    }
   ],
   "source": [
    "scrape_AP_Top_25_ESPN()"
   ]
  }
 ],
 "metadata": {
  "kernelspec": {
   "display_name": "Python 2",
   "language": "python",
   "name": "python2"
  },
  "language_info": {
   "codemirror_mode": {
    "name": "ipython",
    "version": 2
   },
   "file_extension": ".py",
   "mimetype": "text/x-python",
   "name": "python",
   "nbconvert_exporter": "python",
   "pygments_lexer": "ipython2",
   "version": "2.7.11"
  }
 },
 "nbformat": 4,
 "nbformat_minor": 0
}
