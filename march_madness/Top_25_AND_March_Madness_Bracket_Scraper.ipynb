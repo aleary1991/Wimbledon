{
 "cells": [
  {
   "cell_type": "code",
   "execution_count": 1,
   "metadata": {
    "collapsed": true
   },
   "outputs": [],
   "source": [
    "import requests\n",
    "from bs4 import BeautifulSoup\n",
    "import numpy as np\n",
    "import pandas as pd\n",
    "import time\n",
    "import json\n",
    "from collections import namedtuple\n",
    "import csv\n",
    "import glob\n",
    "from time import strptime"
   ]
  },
  {
   "cell_type": "code",
   "execution_count": 2,
   "metadata": {
    "collapsed": false
   },
   "outputs": [],
   "source": [
    "def scrape_table(year, week, soup, headers_=False):\n",
    "    teams = []\n",
    "    for i, team in enumerate(soup.table.find_all('tr')[1:]):\n",
    "        if not i:\n",
    "            headers = [\"YEAR\", \"WEEK\"]+[t.text for t in team.find_all('td')]+[\"GAMES\"]\n",
    "        else:\n",
    "            games = team.find(class_ = 'previous-games').text.replace(u'\\xa0', u' ').encode('utf-8', 'replace')\n",
    "            teams.append([year, week, i]+[t.text for t in team.find_all('li')] + [games.split(\"This Week:\")[-1]])\n",
    "    if headers_:\n",
    "        return headers, teams\n",
    "    else:\n",
    "        return teams"
   ]
  },
  {
   "cell_type": "code",
   "execution_count": 3,
   "metadata": {
    "collapsed": false
   },
   "outputs": [],
   "source": [
    "def scrape_AP_Top_25_ESPN(year, path, nice):\n",
    "    week = 1\n",
    "    first = True\n",
    "    while True:\n",
    "        if nice:\n",
    "            time.sleep(1)\n",
    "        url = 'http://espn.go.com/mens-college-basketball/rankings/_/poll/1/year/'+str(year)+'/week/'+str(week)+'/seasontype/2'\n",
    "        soup = BeautifulSoup(requests.get(url).text, \"html.parser\")\n",
    "        if int(soup.h1.text.split(\" \")[0]) != year:\n",
    "            break\n",
    "        if soup.find(\"tr\", class_ = \"oddrow\").text == 'No rankings available.':\n",
    "            year -= 1\n",
    "            week = 1\n",
    "            continue\n",
    "        print '\\rScraping Week:', week,\"; Year:\", year,\n",
    "        if first:\n",
    "            headers, data = scrape_table(year, week, soup, True)\n",
    "            first = False\n",
    "        else:\n",
    "            data = data + scrape_table(year, week, soup)\n",
    "        week +=1\n",
    "    print 'Finished!'\n",
    "    print 'Saving to csv:', path+'NCAA_AP_TOP_25.csv',\n",
    "    with open(path+'NCAA_AP_TOP_25.csv', 'wb') as f:\n",
    "        w = csv.writer(f)\n",
    "        w.writerow(headers)\n",
    "        w.writerows(data)\n",
    "    print 'Finished!'\n",
    "    return year"
   ]
  },
  {
   "cell_type": "code",
   "execution_count": 4,
   "metadata": {
    "collapsed": true
   },
   "outputs": [],
   "source": [
    "def helper(t):\n",
    "    data = t.p.get_text().split('\\n')[-1].split()\n",
    "    team = ' '.join(data[:-1])\n",
    "    score = data[-1]\n",
    "    return team, score"
   ]
  },
  {
   "cell_type": "code",
   "execution_count": 5,
   "metadata": {
    "collapsed": true
   },
   "outputs": [],
   "source": [
    "def foldResults(results):\n",
    "    final = []\n",
    "    while True:\n",
    "        try:\n",
    "            a = results.pop()\n",
    "            b = results.pop()\n",
    "        except IndexError:\n",
    "            break\n",
    "        else:\n",
    "            final.append(b+a[2:])\n",
    "    return list(reversed(final))"
   ]
  },
  {
   "cell_type": "code",
   "execution_count": 6,
   "metadata": {
    "collapsed": true
   },
   "outputs": [],
   "source": [
    "def scrapeRegion(table, region):\n",
    "    d = {}\n",
    "    results = []\n",
    "    for t in table.find_all(class_ = \"align_right\"):\n",
    "        team, score = helper(t.findNext(\"td\"))\n",
    "        d[team] = t.text\n",
    "        results.append([region, 1, d[team], team, score])\n",
    "    for i, r in enumerate([2,5,11]):\n",
    "        for t in table.find_all(rowspan = r):\n",
    "            team, score = helper(t)\n",
    "            results.append([region, i+2, d[team], team, score])\n",
    "    return foldResults(results), d"
   ]
  },
  {
   "cell_type": "code",
   "execution_count": 7,
   "metadata": {
    "collapsed": false
   },
   "outputs": [],
   "source": [
    "def final_four(tag, rowspan_=None):\n",
    "    if tag.name != 'td':\n",
    "        return False\n",
    "    if not rowspan_:\n",
    "        return len(tag.attrs) == 0\n",
    "    else:\n",
    "        try:\n",
    "            v = tag.attrs['rowspan']\n",
    "        except:\n",
    "            return False\n",
    "        else:\n",
    "            return v == str(rowspan_)"
   ]
  },
  {
   "cell_type": "code",
   "execution_count": 8,
   "metadata": {
    "collapsed": false
   },
   "outputs": [],
   "source": [
    "def scrapeBracket(soup, year):\n",
    "    d = {}\n",
    "    results = []\n",
    "    region = soup.h2.findNext(\"h2\")\n",
    "    temp = soup.find_all(\"table\", class_ = 'bracket')\n",
    "    for t in temp[:-1]:\n",
    "        res, d_ = scrapeRegion(t, region.text)\n",
    "        region = region.findNext(\"h2\")\n",
    "        d.update(d_)\n",
    "        results = results + res\n",
    "    res = []\n",
    "    for i, r in zip([0,2],['Final_Four', 'Championship']):\n",
    "        for t in temp[-1].find_all(lambda tag: final_four(tag,i)):\n",
    "            team, score = helper(t)\n",
    "            res.append(['Final_Four', r, d[team], team, score])\n",
    "    return [[year]+a for a in results + foldResults(res)]"
   ]
  },
  {
   "cell_type": "code",
   "execution_count": 11,
   "metadata": {
    "collapsed": false
   },
   "outputs": [],
   "source": [
    "def main(inityear=2016, nice=True, path = ''):\n",
    "    year = scrape_AP_Top_25_ESPN(inityear, path, nice)\n",
    "    bracket = []\n",
    "    for y in range(year+1, inityear):\n",
    "        print 'Scraping Year:', y,\n",
    "        url = 'http://www.sports-reference.com/cbb/postseason/'+str(y)+'-ncaa.html'\n",
    "        soup = BeautifulSoup(requests.get(url).text, \"html.parser\")\n",
    "        bracket = bracket + scrapeBracket(soup, y)\n",
    "    print 'Finished!'\n",
    "    print 'Saving to csv:', path+'NCAA_BRACKET.csv',\n",
    "    with open(path+'NCAA_BRACKET.csv', 'wb') as f:\n",
    "        w = csv.writer(f)\n",
    "        w.writerow(['YEAR', 'REGION', 'ROUND', 'SEED', 'TEAM', 'SCORE', 'O_SEED', 'O_NAME', 'O_SCORE'])\n",
    "        w.writerows(bracket)\n",
    "    print 'Finished!'"
   ]
  },
  {
   "cell_type": "code",
   "execution_count": 12,
   "metadata": {
    "collapsed": false
   },
   "outputs": [
    {
     "name": "stdout",
     "output_type": "stream",
     "text": [
      "Scraping Week: 18 ; Year: 2002 Finished!\n",
      "Saving to csv: NCAA_AP_TOP_25.csv Finished!\n",
      "Scraping Year: 2002 Scraping Year: 2003 Scraping Year: 2004 Scraping Year: 2005 Scraping Year: 2006 Scraping Year: 2007 Scraping Year: 2008 Scraping Year: 2009 Scraping Year: 2010 Scraping Year: 2011 Scraping Year: 2012 Scraping Year: 2013 Scraping Year: 2014 Scraping Year: 2015 Finished!\n",
      "Saving to csv: NCAA_BRACKET.csv Finished!\n"
     ]
    }
   ],
   "source": [
    "main(nice = False, inityear=2016)"
   ]
  }
 ],
 "metadata": {
  "kernelspec": {
   "display_name": "Python 2",
   "language": "python",
   "name": "python2"
  },
  "language_info": {
   "codemirror_mode": {
    "name": "ipython",
    "version": 2
   },
   "file_extension": ".py",
   "mimetype": "text/x-python",
   "name": "python",
   "nbconvert_exporter": "python",
   "pygments_lexer": "ipython2",
   "version": "2.7.11"
  }
 },
 "nbformat": 4,
 "nbformat_minor": 0
}
