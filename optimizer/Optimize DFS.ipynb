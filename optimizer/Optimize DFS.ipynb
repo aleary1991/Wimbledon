{
 "cells": [
  {
   "cell_type": "code",
   "execution_count": 1,
   "metadata": {
    "collapsed": true
   },
   "outputs": [],
   "source": [
    "import pandas as pd\n",
    "import numpy as np\n"
   ]
  },
  {
   "cell_type": "markdown",
   "metadata": {},
   "source": [
    "prune positions\n",
    "iterate through positions update frontier"
   ]
  },
  {
   "cell_type": "markdown",
   "metadata": {
    "collapsed": true
   },
   "source": [
    "for position if there exists a higher value at same price remove\n",
    "for position if there exists a lower price at same value"
   ]
  },
  {
   "cell_type": "code",
   "execution_count": 22,
   "metadata": {
    "collapsed": false
   },
   "outputs": [],
   "source": [
    "stuff = zip(np.random.choice(range(1, 10), 100), np.random.choice(range(1, 10), 100))"
   ]
  },
  {
   "cell_type": "code",
   "execution_count": 127,
   "metadata": {
    "collapsed": true
   },
   "outputs": [],
   "source": [
    "#price, value = zip(*stuff)\n",
    "value = np.random.choice(range(1, 100), 10000)\n",
    "price = [x/2 + y for x, y in zip(value, np.random.choice(range(1, 10), 10000))]"
   ]
  },
  {
   "cell_type": "code",
   "execution_count": 128,
   "metadata": {
    "collapsed": false
   },
   "outputs": [
    {
     "data": {
      "text/plain": [
       "array([[ 1.        ,  0.98371206],\n",
       "       [ 0.98371206,  1.        ]])"
      ]
     },
     "execution_count": 128,
     "metadata": {},
     "output_type": "execute_result"
    }
   ],
   "source": [
    "np.corrcoef(value, price)"
   ]
  },
  {
   "cell_type": "code",
   "execution_count": 123,
   "metadata": {
    "collapsed": false
   },
   "outputs": [],
   "source": [
    "def helper(val, d, up):\n",
    "    if up:\n",
    "        return max([v for k, v in d.iteritems() if k <= val])\n",
    "    else:\n",
    "        return min([v for k, v in d.iteritems() if k >= val])\n",
    "        \n",
    "\n",
    "def dominated(price, value):\n",
    "    prices = np.unique(price)\n",
    "    values = np.unique(value)\n",
    "    best_vals = {p : max([value[i] for i, v in enumerate(price) if v == p]) for p in prices}\n",
    "    best_pris = {v : min([price[i] for i, p in enumerate(value) if p == v]) for v in values}\n",
    "    bests = [(k,v) for k, v in best_vals.iteritems()]+[(v,k) for k, v in best_pris.iteritems()]\n",
    "    bests_ = [(p,v) for p, v in bests if (v >= helper(p, best_vals, True)) and (p <= helper(v, best_pris, False))]\n",
    "    return set(bests_)"
   ]
  },
  {
   "cell_type": "code",
   "execution_count": 129,
   "metadata": {
    "collapsed": false
   },
   "outputs": [
    {
     "data": {
      "text/plain": [
       "{(1, 1),\n",
       " (2, 3),\n",
       " (3, 5),\n",
       " (4, 7),\n",
       " (5, 9),\n",
       " (6, 11),\n",
       " (7, 13),\n",
       " (8, 15),\n",
       " (9, 17),\n",
       " (10, 19),\n",
       " (11, 21),\n",
       " (12, 23),\n",
       " (13, 25),\n",
       " (14, 27),\n",
       " (15, 29),\n",
       " (16, 31),\n",
       " (17, 33),\n",
       " (18, 35),\n",
       " (19, 37),\n",
       " (20, 39),\n",
       " (21, 41),\n",
       " (22, 43),\n",
       " (23, 45),\n",
       " (24, 47),\n",
       " (25, 49),\n",
       " (26, 51),\n",
       " (27, 53),\n",
       " (28, 55),\n",
       " (29, 57),\n",
       " (30, 59),\n",
       " (31, 61),\n",
       " (32, 63),\n",
       " (33, 65),\n",
       " (34, 67),\n",
       " (35, 69),\n",
       " (36, 71),\n",
       " (37, 73),\n",
       " (38, 75),\n",
       " (39, 77),\n",
       " (40, 79),\n",
       " (41, 81),\n",
       " (42, 83),\n",
       " (43, 85),\n",
       " (44, 87),\n",
       " (45, 89),\n",
       " (46, 91),\n",
       " (47, 93),\n",
       " (48, 95),\n",
       " (49, 97),\n",
       " (50, 99)}"
      ]
     },
     "execution_count": 129,
     "metadata": {},
     "output_type": "execute_result"
    }
   ],
   "source": [
    "dominated(price, value)"
   ]
  }
 ],
 "metadata": {
  "kernelspec": {
   "display_name": "Python 2",
   "language": "python",
   "name": "python2"
  },
  "language_info": {
   "codemirror_mode": {
    "name": "ipython",
    "version": 2
   },
   "file_extension": ".py",
   "mimetype": "text/x-python",
   "name": "python",
   "nbconvert_exporter": "python",
   "pygments_lexer": "ipython2",
   "version": "2.7.10"
  }
 },
 "nbformat": 4,
 "nbformat_minor": 0
}
