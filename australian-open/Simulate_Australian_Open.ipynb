{
 "cells": [
  {
   "cell_type": "code",
   "execution_count": 1,
   "metadata": {
    "collapsed": false
   },
   "outputs": [],
   "source": [
    "%matplotlib inline\n",
    "import requests\n",
    "from scipy.stats import bernoulli\n",
    "import pickle\n",
    "from bs4 import BeautifulSoup\n",
    "import numpy as np\n",
    "import pandas as pd\n",
    "import time\n",
    "import json\n",
    "import re\n",
    "import seaborn as sns\n",
    "import matplotlib.pyplot as plt\n",
    "import statsmodels.formula.api as smf\n",
    "sns.set_style(\"whitegrid\")\n",
    "sns.set_context(\"poster\")\n",
    "from itertools import product\n",
    "from random import sample\n",
    "from numpy.random import ranf\n",
    "from collections import Counter\n",
    "from selenium import webdriver\n",
    "from selenium.webdriver.common.by import By\n",
    "from selenium.webdriver.support.ui import WebDriverWait\n",
    "from selenium.webdriver.support import expected_conditions as EC"
   ]
  },
  {
   "cell_type": "code",
   "execution_count": 2,
   "metadata": {
    "collapsed": false
   },
   "outputs": [],
   "source": [
    "def log5(p,q):\n",
    "    if p>1:\n",
    "        p = p/float(100)\n",
    "        q = q/float(100)\n",
    "    return (p-p*q)/(p+q-2*p*q)"
   ]
  },
  {
   "cell_type": "code",
   "execution_count": 3,
   "metadata": {
    "collapsed": false
   },
   "outputs": [],
   "source": [
    "def get_stats(player, year, cutoff=None):\n",
    "    if not cutoff:\n",
    "        cutoff = year - 5\n",
    "    if year == cutoff:\n",
    "        return None\n",
    "    driver = webdriver.Firefox()\n",
    "    driver.maximize_window()\n",
    "\n",
    "    wait = WebDriverWait(driver, 10)\n",
    "\n",
    "    url = 'http://www.atpworldtour.com/en/players/foo/'+player+'/player-stats?year='+str(int(year))+'&surfaceType=clay'\n",
    "    driver.get(url)\n",
    "    \n",
    "    print url, \n",
    "\n",
    "    # wait for the complete page load\n",
    "    wait.until(EC.invisibility_of_element_located((By.ID, \"preload\")))\n",
    "\n",
    "    # parse the HTML\n",
    "    soup = BeautifulSoup(driver.page_source, \"html.parser\")\n",
    "\n",
    "    driver.close()\n",
    "    try:\n",
    "        _, service, return_ = soup.find_all(\"table\")\n",
    "        return [[d.get_text(strip=True) for d in i.find_all(\"td\")] for i in service.find_all(\"tr\")[3:6]] + [[d.get_text(strip=True) for d in i.find_all(\"td\")] for i in return_.find_all(\"tr\")[1:3]]\n",
    "    except:\n",
    "        return get_stats(l, year-1, cutoff)"
   ]
  },
  {
   "cell_type": "code",
   "execution_count": 4,
   "metadata": {
    "collapsed": false
   },
   "outputs": [],
   "source": [
    "# Randomizes seeding following the ITF rules, which can be found on page 25: http://www.itftennis.com/media/195784/195784.pdf\n",
    "#\n",
    "# Signature: \n",
    "# \n",
    "#   Inputs:\n",
    "#     field: This is a dictionary of the form {ranking : (name, scoring_params)} and is randomized in this function\n",
    "#\n",
    "#   Outputs:\n",
    "#     seeding: This outputs a dictionary of the form {tournament seed : ranking}\n",
    "\n",
    "def drawOpen(field):\n",
    "    final_loc = {n+1 : \"\" for n in range(128)}\n",
    "    randomization = sample(field.keys(), len(field.keys()))\n",
    "    special_locations = {1 : [1], \n",
    "                     2 : [2],\n",
    "                     3 : [3,4],\n",
    "                     5 : [5,6,7,8],\n",
    "                     9 : [9,10,11,12],\n",
    "                     13 : [13,14,15,16],\n",
    "                     17 : range(17,25),\n",
    "                     25 : range(25,33)}\n",
    "    regular_locations = [r for r in field.keys() if not any([r in s for s in special_locations.values()])]\n",
    "    temp = [s for s in sorted(special_locations.keys())]\n",
    "    for r in randomization:\n",
    "        if r in range(1,33):\n",
    "            for i, t in enumerate(temp):\n",
    "                try:\n",
    "                    if t<=r and temp[i+1]>r:\n",
    "                        final_loc[special_locations[t].pop()] = r\n",
    "                except:\n",
    "                    final_loc[special_locations[temp[-1]].pop()] = r\n",
    "        else:\n",
    "            final_loc[regular_locations.pop()] = r\n",
    "    return final_loc"
   ]
  },
  {
   "cell_type": "code",
   "execution_count": 5,
   "metadata": {
    "collapsed": false
   },
   "outputs": [],
   "source": [
    "# Simply takes the Log5 of two teams to compute the winner.\n",
    "#\n",
    "# Signature: \n",
    "#\n",
    "#   Inputs:\n",
    "#     field:   This is a globally defined variable of the form {ranking : (name, scoring_params)}\n",
    "#     p1:      an int representing the seed of a player in the field dictionary\n",
    "#     p2:      same as p1\n",
    "#     verbose: prints out matchup and winner\n",
    "#\n",
    "#   Outputs:\n",
    "#     winner: The seed of the winner\n",
    "\n",
    "def game(p1, p2, verbose=False):\n",
    "    a, b = ranf(1), log5(field[p1][1], field[p2][1])\n",
    "    if (a >= b):\n",
    "        if verbose:\n",
    "            print p1, \"v\", p2, \"=>\", p2\n",
    "        return p2\n",
    "    else:        \n",
    "        if verbose:\n",
    "            print p1, \"v\", p2, \"=>\", p1\n",
    "        return p1"
   ]
  },
  {
   "cell_type": "code",
   "execution_count": 190,
   "metadata": {
    "collapsed": true
   },
   "outputs": [],
   "source": [
    "def simPoint(s, r, rev=False, verbose=False):\n",
    "    res = ranf(3)\n",
    "    if verbose:\n",
    "        print res\n",
    "    if res[0]>=s[0]:\n",
    "        if res[1]>=s[0]:\n",
    "#        if res[1]>=.9:\n",
    "            return 0+rev\n",
    "        else:\n",
    "            if res[2]>=log5(s[2],r[4]):\n",
    "                return 0+rev\n",
    "            else:\n",
    "                return 1-rev\n",
    "    else:\n",
    "        if res[2]>= log5(s[1],r[3]):\n",
    "            return 0+rev\n",
    "        else:\n",
    "            return 1-rev\n",
    "\n",
    "def simGame(players, server, verbose=False):\n",
    "    s = players[1-server]\n",
    "    r = players[server]\n",
    "    s1, s2 = 0, 0\n",
    "    winner = False\n",
    "    while not winner:\n",
    "        if simPoint(s, r, verbose):\n",
    "            s1 += 1\n",
    "        else:\n",
    "            s2 += 1\n",
    "        if abs(s1-s2)>=2 and max([s1,s2])>=4:\n",
    "            winner = True\n",
    "    if server:\n",
    "        return (s1, s2)\n",
    "    else:\n",
    "        return (s2, s1)\n",
    "\n",
    "def simTiebreak(players, server, verbose=False):\n",
    "    if server:\n",
    "        rev = False\n",
    "    else:\n",
    "        rev = True\n",
    "    s1, s2 = 0, 0\n",
    "    winner = False\n",
    "    counter = 0\n",
    "    while not winner:\n",
    "        if counter % 2:\n",
    "            rev=1-rev\n",
    "        s=players[rev]\n",
    "        r=players[1-rev]\n",
    "        n = simPoint(s, r, rev, verbose=verbose)\n",
    "        if verbose:\n",
    "            print s,r,n\n",
    "        if n:\n",
    "            s1 += 1\n",
    "        else:\n",
    "            s2 += 1\n",
    "        if abs(s1-s2)>=2 and max([s1,s2])>=7:\n",
    "            winner = True\n",
    "        counter += 1\n",
    "    return (s1, s2)\n",
    "\n",
    "def simSet(players, server, tiebreak=True, verbose=False):\n",
    "    s1, s2 = 0, 0\n",
    "    for i in range(12):\n",
    "        w = simGame(players,server,verbose)\n",
    "        if w[0]>w[1]:\n",
    "            s1 += 1\n",
    "        else:\n",
    "            s2 += 1\n",
    "        server = 1-server\n",
    "        if abs(s1-s2)>=2 and max([s1,s2])>=6:\n",
    "            break\n",
    "    if s1+s2 == 12:\n",
    "        if tiebreak:\n",
    "            t = simTiebreak(players, server, verbose)\n",
    "            if t[0] > t[1]:\n",
    "                s1 += 1\n",
    "            else:\n",
    "                s2 += 1\n",
    "        else:\n",
    "            winner = False\n",
    "            while not winner:\n",
    "                w = simGame(players,server,verbose)\n",
    "                if w[0]>w[1]:\n",
    "                    s1 += 1\n",
    "                else:\n",
    "                    s2 += 1\n",
    "                server = 1-server\n",
    "                if abs(s1-s2)>=2:\n",
    "                    winner = True\n",
    "                    break                \n",
    "    return (s1, s2)\n",
    "\n",
    "def simMatch(players, server = 2, bestOf = 5, tiebreak=True, verbose=False):\n",
    "    if server == 2:\n",
    "        server = bernoulli.rvs(.5)        \n",
    "    winCond = bestOf/2+1\n",
    "    winner = False\n",
    "    s1, s2 = 0, 0\n",
    "    while not winner:\n",
    "        res = simSet(players, server, tiebreak, verbose)\n",
    "        if res[0]>res[1]:\n",
    "            s1 += 1\n",
    "        else:\n",
    "            s2 += 1\n",
    "        if verbose:\n",
    "            print res\n",
    "        if sum(res) % 2:\n",
    "            server = 1-server\n",
    "        if max(s1, s2) >= winCond:\n",
    "            winner = True\n",
    "    return s1>s2"
   ]
  },
  {
   "cell_type": "code",
   "execution_count": 14,
   "metadata": {
    "collapsed": true
   },
   "outputs": [],
   "source": [
    "def helper(p1, p2, verbose):\n",
    "    for p in zip(test_d[p1], test_d[p2]):\n",
    "        try:\n",
    "            players = [zip(*player)[1] for player in p]\n",
    "        except IndexError:\n",
    "            pass\n",
    "        except TypeError:\n",
    "            players = []\n",
    "            for player in p:\n",
    "                try:\n",
    "                    players.append(zip(*player)[1])\n",
    "                except:\n",
    "                    players.append([\"1%\"]*5)\n",
    "    players = [[int(s.split(\"%\")[0])/float(100) for s in p] for p in players]\n",
    "    if simMatch(players, bestOf=5):\n",
    "        return p1\n",
    "    else:\n",
    "        return p2"
   ]
  },
  {
   "cell_type": "code",
   "execution_count": 15,
   "metadata": {
    "collapsed": false
   },
   "outputs": [],
   "source": [
    "# Runs a single elimination tournament with no byes\n",
    "#\n",
    "# Signature: \n",
    "# \n",
    "#   Inputs:\n",
    "#     draw:      This is a dictionary of the form {tournament seed : ranking}.  This allows for the minor randomization of\n",
    "#                seeding in tennis.\n",
    "#     scorefunc: The name of the function that will be used to compute who wins a matchup\n",
    "#     verbose:   Print out matchup and winners\n",
    "#     field:     This is required if the user wants to randomize the seeding in this function (but it is naive in randomization)\n",
    "#                and is of the form {ranking : (name, scoring_params)}\n",
    "#\n",
    "#   Outputs:\n",
    "#     winner: It outputs the winner of the tournament\n",
    "\n",
    "def tournament(draw = None, scorefunc = game, verbose=False, field=None):\n",
    "    if not draw or field:\n",
    "        draw = {i+1 : v for i, v in enumerate(sample(field.keys(), len(field.keys())))}\n",
    "    draw_ = draw.copy()\n",
    "    playersleft = len(draw)\n",
    "    rnd = 1\n",
    "    while playersleft != 1:\n",
    "        if verbose:\n",
    "            print \"Round\", rnd\n",
    "        n = len(draw_.values())\n",
    "        draw_ = {v+1 : scorefunc(draw_[v+1], draw_[n-v], verbose) for v in range(n/2)}\n",
    "        playersleft = len(draw_)\n",
    "        rnd += 1\n",
    "    return draw_.values().pop()"
   ]
  },
  {
   "cell_type": "code",
   "execution_count": 11,
   "metadata": {
    "collapsed": false
   },
   "outputs": [
    {
     "name": "stdout",
     "output_type": "stream",
     "text": [
      "loaded page\n",
      "clicked\n"
     ]
    }
   ],
   "source": [
    "driver = webdriver.Firefox()\n",
    "driver.maximize_window()\n",
    "\n",
    "wait = WebDriverWait(driver, 10)\n",
    "\n",
    "url = \"http://www.rolandgarros.com/en_FR/draws/index.html?event=MS\"\n",
    "driver.get(url)\n",
    "\n",
    "# wait for the complete page load\n",
    "wait.until(EC.invisibility_of_element_located((By.ID, \"preload\")))\n",
    "print \"loaded page\"\n",
    "\n",
    "element = driver.find_element_by_xpath(\"//div[@class='navsect r1s1 match_button quarter']\")\n",
    "element.click()\n",
    "print \"clicked\"\n",
    "\n",
    "# parse the HTML\n",
    "soup = BeautifulSoup(driver.page_source, \"html.parser\")\n",
    "\n",
    "driver.close()"
   ]
  },
  {
   "cell_type": "code",
   "execution_count": 12,
   "metadata": {
    "collapsed": false
   },
   "outputs": [
    {
     "name": "stdout",
     "output_type": "stream",
     "text": [
      "128\n"
     ]
    }
   ],
   "source": [
    "players = [(i['href'].split(\".html\")[0][-4:], i.text) for i in soup.find_all(\"div\", class_ = \"g_round\")[0].find_all(\"a\")]\n",
    "print len(players)"
   ]
  },
  {
   "cell_type": "code",
   "execution_count": 13,
   "metadata": {
    "collapsed": false
   },
   "outputs": [],
   "source": [
    "non_seeds = 100\n",
    "players_ = []\n",
    "for l, p in players:\n",
    "    player = [i for i in re.split(\"[\\[\\]]\", p) if i]\n",
    "    if len(player) == 2:\n",
    "        players_.append((player[0], int(player[1]), l))\n",
    "    else:\n",
    "        players_.append((player[0], non_seeds, l))\n",
    "        non_seeds += 1"
   ]
  },
  {
   "cell_type": "code",
   "execution_count": 14,
   "metadata": {
    "collapsed": false
   },
   "outputs": [],
   "source": [
    "vals = list(zip(*players_)[1])\n",
    "test_d2 = {}\n",
    "counter = 1\n",
    "while True:\n",
    "    try:\n",
    "        test_d2[min(vals)] = counter\n",
    "        loc = np.argmin(vals)\n",
    "        vals.pop(loc)\n",
    "        counter += 1\n",
    "    except:\n",
    "        break\n",
    "final_players = zip(zip(*players_)[0], tuple([test_d2[v] for v in list(zip(*players_)[1])]), zip(*players_)[2])"
   ]
  },
  {
   "cell_type": "code",
   "execution_count": 9,
   "metadata": {
    "collapsed": false
   },
   "outputs": [
    {
     "name": "stdout",
     "output_type": "stream",
     "text": [
      "127 A. Murray  http://www.atpworldtour.com/en/players/foo/mc10/player-stats?year=2015&surfaceType=clay\n"
     ]
    }
   ],
   "source": [
    "test_d = {}\n",
    "for i, (p, r, l) in enumerate(final_players):\n",
    "    print \"\\r\", i, p,\n",
    "    while True:\n",
    "        try:\n",
    "            test_d[r] = (p, l, get_stats(l, 2015))\n",
    "        except:\n",
    "            pass\n",
    "        else:\n",
    "            break"
   ]
  },
  {
   "cell_type": "code",
   "execution_count": 21,
   "metadata": {
    "collapsed": true
   },
   "outputs": [],
   "source": [
    "with open('players.pickle', 'wb') as handle:\n",
    "    pickle.dump(test_d, handle, protocol=pickle.HIGHEST_PROTOCOL)\n",
    "    \n",
    "with open('players2.pickle', 'wb') as handle:\n",
    "    pickle.dump(final_players, handle, protocol=pickle.HIGHEST_PROTOCOL)"
   ]
  },
  {
   "cell_type": "code",
   "execution_count": 16,
   "metadata": {
    "collapsed": false
   },
   "outputs": [],
   "source": [
    "with open('players.pickle', 'rb') as handle:\n",
    "    test_d = pickle.load(handle)\n",
    "\n",
    "with open('players2.pickle', 'rb') as handle:\n",
    "    final_players = pickle.load(handle)"
   ]
  },
  {
   "cell_type": "code",
   "execution_count": 119,
   "metadata": {
    "collapsed": true
   },
   "outputs": [],
   "source": [
    "def getLink(name):\n",
    "    for t in test_d.values():\n",
    "        if t[0].strip() == name:\n",
    "            print \"http://www.atpworldtour.com/en/players/foo/\"+t[1]+'/player-stats?year=2015&surfaceType=clay'\n",
    "            \n",
    "def getStats(name):\n",
    "    for t in test_d.values():\n",
    "        if t[0].strip() == name:\n",
    "            print t[2]"
   ]
  },
  {
   "cell_type": "code",
   "execution_count": 141,
   "metadata": {
    "collapsed": false
   },
   "outputs": [
    {
     "data": {
      "text/plain": [
       "(u'D. Goffin ',\n",
       " u'gb88',\n",
       " [[u'1st Serve', u'55%'],\n",
       "  [u'1st Serve Points Won', u'71%'],\n",
       "  [u'2nd Serve Points Won', u'53%'],\n",
       "  [u'1st Serve Return Points Won', u'34%'],\n",
       "  [u'2nd Serve Return Points Won', u'51%']])"
      ]
     },
     "execution_count": 141,
     "metadata": {},
     "output_type": "execute_result"
    }
   ],
   "source": [
    "test_d[12]"
   ]
  },
  {
   "cell_type": "code",
   "execution_count": 125,
   "metadata": {
    "collapsed": false,
    "scrolled": true
   },
   "outputs": [
    {
     "name": "stdout",
     "output_type": "stream",
     "text": [
      "http://www.atpworldtour.com/en/players/foo/w367/player-stats?year=2015&surfaceType=clay\n",
      "[[u'1st Serve', u'55%'], [u'1st Serve Points Won', u'76%'], [u'2nd Serve Points Won', u'55%'], [u'1st Serve Return Points Won', u'32%'], [u'2nd Serve Return Points Won', u'52%']]\n"
     ]
    }
   ],
   "source": [
    "getLink(\"S. Wawrinka\")\n",
    "getStats(\"S. Wawrinka\")"
   ]
  },
  {
   "cell_type": "code",
   "execution_count": 76,
   "metadata": {
    "collapsed": false
   },
   "outputs": [],
   "source": [
    "act_draw = {}\n",
    "for i in range(1, 129):\n",
    "    if i < 33:\n",
    "        act_draw[i] = i\n",
    "    else:\n",
    "        act_draw[i] = 161-i"
   ]
  },
  {
   "cell_type": "code",
   "execution_count": 110,
   "metadata": {
    "collapsed": false
   },
   "outputs": [
    {
     "name": "stdout",
     "output_type": "stream",
     "text": [
      "0.99999Wall time: 6h 12min 24s\n",
      "\n"
     ]
    }
   ],
   "source": [
    "%%time\n",
    "\n",
    "nsims = 100000\n",
    "a, b = [], []\n",
    "for i in range(nsims):\n",
    "    print \"\\r\", i/float(nsims),\n",
    "    a.append(tournament(drawOpen(test_d), helper))\n",
    "    b.append(tournament(act_draw, helper))"
   ]
  },
  {
   "cell_type": "code",
   "execution_count": 136,
   "metadata": {
    "collapsed": false
   },
   "outputs": [
    {
     "name": "stdout",
     "output_type": "stream",
     "text": [
      "0.9999Wall time: 42min 11s\n",
      "\n"
     ]
    }
   ],
   "source": [
    "%%time\n",
    "\n",
    "nsims = 10000\n",
    "c, d = [], []\n",
    "for i in range(nsims):\n",
    "    print \"\\r\", i/float(nsims),\n",
    "    c.append(tournament(drawOpen(test_d), helper))\n",
    "    d.append(tournament(act_draw, helper))"
   ]
  },
  {
   "cell_type": "code",
   "execution_count": 185,
   "metadata": {
    "collapsed": false
   },
   "outputs": [
    {
     "name": "stdout",
     "output_type": "stream",
     "text": [
      "0.9999Wall time: 30.1 s\n",
      "\n"
     ]
    }
   ],
   "source": [
    "%%time\n",
    "\n",
    "nsims = 10000\n",
    "field = {1 : 1,\n",
    "         2 : 13,\n",
    "         3 : 2,\n",
    "         4 : 3}\n",
    "\n",
    "e = []\n",
    "for i in range(nsims):\n",
    "    print \"\\r\", i/float(nsims),\n",
    "    e.append(tournament(draw=field, scorefunc=helper))"
   ]
  },
  {
   "cell_type": "code",
   "execution_count": 207,
   "metadata": {
    "collapsed": false,
    "scrolled": false
   },
   "outputs": [
    {
     "name": "stdout",
     "output_type": "stream",
     "text": [
      "1 1 N. Djokovic  0.6115\n",
      "2 2 A. Murray  0.3119\n",
      "3 13 D. Thiem  0.0429\n",
      "4 3 S. Wawrinka  0.0337\n"
     ]
    }
   ],
   "source": [
    "inpt = e\n",
    "sm = float(sum(Counter(inpt).values()))\n",
    "\n",
    "for i, (k, v) in enumerate(Counter(inpt).most_common()):\n",
    "    print i+1, k, test_d[k][0], v/sm\n",
    "    #if i == 0:\n",
    "    #    break\n",
    "        \n",
    "#compare(e, b)"
   ]
  },
  {
   "cell_type": "code",
   "execution_count": 201,
   "metadata": {
    "collapsed": false,
    "scrolled": false
   },
   "outputs": [],
   "source": [
    "def compare(a,b):\n",
    "    x = float(sum(Counter(a).values()))\n",
    "    y = float(sum(Counter(b).values()))\n",
    "    temp = []\n",
    "    for i in range(1,129):\n",
    "        a_, b_ = 0, 0\n",
    "        try:\n",
    "            a_ = Counter(a)[i]/x\n",
    "        except:\n",
    "            pass\n",
    "        try:\n",
    "            b_ = Counter(b)[i]/y\n",
    "        except:\n",
    "            pass\n",
    "        if (a_-b_)/float(10000):\n",
    "            if a_>b_:\n",
    "                temp.append((a_-b_, test_d[i][0], True))\n",
    "            else:\n",
    "                temp.append((b_-a_, test_d[i][0], False))\n",
    "    for i, (s, n, b) in enumerate(sorted(temp, reverse=True)):\n",
    "        if b:\n",
    "            print i+1, n, s\n",
    "        else:\n",
    "            print i+1, n, s*-1"
   ]
  },
  {
   "cell_type": "code",
   "execution_count": 9,
   "metadata": {
    "collapsed": true
   },
   "outputs": [],
   "source": [
    "# Bill James Log 5"
   ]
  },
  {
   "cell_type": "code",
   "execution_count": 113,
   "metadata": {
    "collapsed": false,
    "scrolled": true
   },
   "outputs": [
    {
     "name": "stdout",
     "output_type": "stream",
     "text": [
      "Wall time: 1.99 s\n"
     ]
    },
    {
     "data": {
      "image/png": "[encoded data removed]",
      "text/plain": [
       "<matplotlib.figure.Figure at 0x9ed33c8>"
      ]
     },
     "metadata": {},
     "output_type": "display_data"
    }
   ],
   "source": [
    "%%time\n",
    "\n",
    "step = .005\n",
    "min_ = step\n",
    "max_ = 1\n",
    "\n",
    "vals = np.arange(min_,max_,step)\n",
    "\n",
    "heatmap = [[log5(v, v_) for v in vals] for v_ in reversed(vals)]\n",
    "\n",
    "num = .05/step\n",
    "\n",
    "test = [\"\" if i % num != num-1 else x for i, x in enumerate(vals)]\n",
    "\n",
    "ax = sns.heatmap(np.array(heatmap), vmin=0, vmax=1, center=.5, xticklabels=test, yticklabels=list(reversed(test)))\n",
    "ax.set_xlabel(\"True Winning % for Team A\")\n",
    "ax.set_ylabel(\"True Winning % for Team B\")\n",
    "ax.set_title(\"Bill James' Log 5: Probability of Team A beating Team B\")\n",
    "ax.set_xticklabels(test, rotation=90)\n",
    "plt.savefig(\"Log5.png\")"
   ]
  }
 ],
 "metadata": {
  "kernelspec": {
   "display_name": "Python 2",
   "language": "python",
   "name": "python2"
  },
  "language_info": {
   "codemirror_mode": {
    "name": "ipython",
    "version": 2
   },
   "file_extension": ".py",
   "mimetype": "text/x-python",
   "name": "python",
   "nbconvert_exporter": "python",
   "pygments_lexer": "ipython2",
   "version": "2.7.11"
  }
 },
 "nbformat": 4,
 "nbformat_minor": 0
}
